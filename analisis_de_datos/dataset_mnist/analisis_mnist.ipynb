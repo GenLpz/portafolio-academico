{
 "cells": [
  {
   "cell_type": "code",
   "execution_count": null,
   "id": "34456a63",
   "metadata": {},
   "outputs": [],
   "source": [
    "import pandas as pd \n",
    "import matplotlib.pyplot as plt\n",
    "import numpy as np\n",
    "import seaborn as sns"
   ]
  },
  {
   "cell_type": "markdown",
   "id": "bdde5bd3",
   "metadata": {},
   "source": [
    "Se usa pandas para leer el archivo, se hace un dataframe para después convertir ese dataframe en una lista que se guarda en la variable \"data\""
   ]
  },
  {
   "cell_type": "code",
   "execution_count": null,
   "id": "10806427",
   "metadata": {},
   "outputs": [
    {
     "name": "stdout",
     "output_type": "stream",
     "text": [
      "El número de filas es: 10000, mientras que el número de columnas es: 785\n"
     ]
    }
   ],
   "source": [
    "archivo = 'mnist_version_corta.csv'\n",
    "\n",
    "df = pd.read_csv(archivo, header=None)\n",
    "data = df.values.tolist()\n",
    "\n",
    "print(f'El número de filas es: {len(data)}, mientras que el número de columnas es: {len(data[0])}')\n"
   ]
  },
  {
   "cell_type": "code",
   "execution_count": null,
   "id": "0308a245",
   "metadata": {},
   "outputs": [
    {
     "name": "stdout",
     "output_type": "stream",
     "text": [
      "   0    1    2    3    4    5    6    7    8    9    ...  775  776  777  778  \\\n",
      "0    7    0    0    0    0    0    0    0    0    0  ...    0    0    0    0   \n",
      "1    2    0    0    0    0    0    0    0    0    0  ...    0    0    0    0   \n",
      "2    1    0    0    0    0    0    0    0    0    0  ...    0    0    0    0   \n",
      "3    0    0    0    0    0    0    0    0    0    0  ...    0    0    0    0   \n",
      "4    4    0    0    0    0    0    0    0    0    0  ...    0    0    0    0   \n",
      "\n",
      "   779  780  781  782  783  784  \n",
      "0    0    0    0    0    0    0  \n",
      "1    0    0    0    0    0    0  \n",
      "2    0    0    0    0    0    0  \n",
      "3    0    0    0    0    0    0  \n",
      "4    0    0    0    0    0    0  \n",
      "\n",
      "[5 rows x 785 columns]\n"
     ]
    }
   ],
   "source": [
    "print(df.head(5))"
   ]
  },
  {
   "cell_type": "code",
   "execution_count": null,
   "id": "a3fd0fd0",
   "metadata": {},
   "outputs": [],
   "source": [
    "first_row = data[0]\n",
    "first_label = int(first_row[0])"
   ]
  },
  {
   "cell_type": "code",
   "execution_count": null,
   "id": "175e4a57",
   "metadata": {},
   "outputs": [
    {
     "name": "stdout",
     "output_type": "stream",
     "text": [
      "[  0   0   0   0   0   0   0   0   0   0   0   0   0   0   0   0   0   0\n",
      "   0   0   0   0   0   0   0   0   0   0   0   0   0   0   0   0   0   0\n",
      "   0   0   0   0   0   0   0   0   0   0   0   0   0   0   0   0   0   0\n",
      "   0   0   0   0   0   0   0   0   0   0   0   0   0   0   0   0   0   0\n",
      "   0   0   0   0   0   0   0   0   0   0   0   0   0   0   0   0   0   0\n",
      "   0   0   0   0   0   0   0   0   0   0   0   0   0   0   0   0   0   0\n",
      "   0   0   0   0   0   0   0   0   0   0   0   0   0   0   0   0   0   0\n",
      "   0   0   0   0   0   0   0   0   0   0   0   0   0   0   0   0   0   0\n",
      "   0   0   0   0   0   0   0   0   0   0   0   0   0   0   0   0   0   0\n",
      "   0   0   0   0   0   0   0   0   0   0   0   0   0   0   0   0   0   0\n",
      "   0   0   0   0   0   0   0   0   0   0   0   0   0   0   0   0   0   0\n",
      "   0   0   0   0  84 185 159 151  60  36   0   0   0   0   0   0   0   0\n",
      "   0   0   0   0   0   0   0   0   0   0   0   0   0   0 222 254 254 254\n",
      " 254 241 198 198 198 198 198 198 198 198 170  52   0   0   0   0   0   0\n",
      "   0   0   0   0   0   0  67 114  72 114 163 227 254 225 254 254 254 250\n",
      " 229 254 254 140   0   0   0   0   0   0   0   0   0   0   0   0   0   0\n",
      "   0   0   0  17  66  14  67  67  67  59  21 236 254 106   0   0   0   0\n",
      "   0   0   0   0   0   0   0   0   0   0   0   0   0   0   0   0   0   0\n",
      "   0   0  83 253 209  18   0   0   0   0   0   0   0   0   0   0   0   0\n",
      "   0   0   0   0   0   0   0   0   0   0   0  22 233 255  83   0   0   0\n",
      "   0   0   0   0   0   0   0   0   0   0   0   0   0   0   0   0   0   0\n",
      "   0   0   0 129 254 238  44   0   0   0   0   0   0   0   0   0   0   0\n",
      "   0   0   0   0   0   0   0   0   0   0   0   0  59 249 254  62   0   0\n",
      "   0   0   0   0   0   0   0   0   0   0   0   0   0   0   0   0   0   0\n",
      "   0   0   0   0 133 254 187   5   0   0   0   0   0   0   0   0   0   0\n",
      "   0   0   0   0   0   0   0   0   0   0   0   0   0   9 205 248  58   0\n",
      "   0   0   0   0   0   0   0   0   0   0   0   0   0   0   0   0   0   0\n",
      "   0   0   0   0   0 126 254 182   0   0   0   0   0   0   0   0   0   0\n",
      "   0   0   0   0   0   0   0   0   0   0   0   0   0   0  75 251 240  57\n",
      "   0   0   0   0   0   0   0   0   0   0   0   0   0   0   0   0   0   0\n",
      "   0   0   0   0   0  19 221 254 166   0   0   0   0   0   0   0   0   0\n",
      "   0   0   0   0   0   0   0   0   0   0   0   0   0   0   3 203 254 219\n",
      "  35   0   0   0   0   0   0   0   0   0   0   0   0   0   0   0   0   0\n",
      "   0   0   0   0   0   0  38 254 254  77   0   0   0   0   0   0   0   0\n",
      "   0   0   0   0   0   0   0   0   0   0   0   0   0   0   0  31 224 254\n",
      " 115   1   0   0   0   0   0   0   0   0   0   0   0   0   0   0   0   0\n",
      "   0   0   0   0   0   0   0 133 254 254  52   0   0   0   0   0   0   0\n",
      "   0   0   0   0   0   0   0   0   0   0   0   0   0   0   0   0  61 242\n",
      " 254 254  52   0   0   0   0   0   0   0   0   0   0   0   0   0   0   0\n",
      "   0   0   0   0   0   0   0   0 121 254 254 219  40   0   0   0   0   0\n",
      "   0   0   0   0   0   0   0   0   0   0   0   0   0   0   0   0   0   0\n",
      " 121 254 207  18   0   0   0   0   0   0   0   0   0   0   0   0   0   0\n",
      "   0   0   0   0   0   0   0   0   0   0   0   0   0   0   0   0   0   0\n",
      "   0   0   0   0   0   0   0   0   0   0]\n"
     ]
    }
   ],
   "source": [
    "first_image = [int(pixel) for pixel in first_row[1:]]\n",
    "first_image = np.array(first_image, dtype=np.uint8)\n",
    "print(first_image)"
   ]
  },
  {
   "cell_type": "code",
   "execution_count": null,
   "id": "92a941fa",
   "metadata": {},
   "outputs": [
    {
     "data": {
      "image/png": "[encoded data removed]",
      "text/plain": [
       "<Figure size 640x480 with 1 Axes>"
      ]
     },
     "metadata": {},
     "output_type": "display_data"
    }
   ],
   "source": [
    "def show_digit(image_vector, label):\n",
    "    image_matrix = image_vector.reshape(28, 28)\n",
    "    plt.imshow(image_matrix, cmap=\"Grays\")\n",
    "    plt.title(f\"Dígito: {label}\")\n",
    "    plt.axis(\"off\")\n",
    "    plt.show()\n",
    "show_digit(first_image, first_label)"
   ]
  },
  {
   "cell_type": "code",
   "execution_count": null,
   "id": "0f41f2e7",
   "metadata": {},
   "outputs": [],
   "source": [
    "labels = []\n",
    "pixels = []\n",
    "for row in data:\n",
    "    labels.append(int(row[0])) # numero de la imagen\n",
    "    pixels.append([int(p) for p in row[1:]]) # píxeles como numeros"
   ]
  },
  {
   "cell_type": "code",
   "execution_count": null,
   "id": "bffcdb91",
   "metadata": {},
   "outputs": [
    {
     "name": "stdout",
     "output_type": "stream",
     "text": [
      "- La cantidad de veces que aparece el número 0 es: 980\n",
      "\n",
      "- La cantidad de veces que aparece el número 1 es: 1135\n",
      "\n",
      "- La cantidad de veces que aparece el número 2 es: 1032\n",
      "\n",
      "- La cantidad de veces que aparece el número 3 es: 1010\n",
      "\n",
      "- La cantidad de veces que aparece el número 4 es: 982\n",
      "\n",
      "- La cantidad de veces que aparece el número 5 es: 892\n",
      "\n",
      "- La cantidad de veces que aparece el número 6 es: 958\n",
      "\n",
      "- La cantidad de veces que aparece el número 7 es: 1028\n",
      "\n",
      "- La cantidad de veces que aparece el número 8 es: 974\n",
      "\n",
      "- La cantidad de veces que aparece el número 9 es: 1009\n",
      "\n"
     ]
    }
   ],
   "source": [
    "nums = list(range(0,10))\n",
    "for i in nums:\n",
    "    print(f'- La cantidad de veces que aparece el número {i} es: {labels.count(i)}\\n')"
   ]
  },
  {
   "cell_type": "code",
   "execution_count": null,
   "id": "f10db6cb",
   "metadata": {},
   "outputs": [
    {
     "name": "stdout",
     "output_type": "stream",
     "text": [
      "La media de los pixels es: 33.791224489795916, mientras que la desviación estánndar de estos pixels es: 79.17246322228644\n"
     ]
    }
   ],
   "source": [
    "labels_array = np.array(labels)\n",
    "pixels_array = np.array(pixels)\n",
    "pixel_mean = np.mean(pixels_array) # Media\n",
    "pixel_std = np.std(pixels_array) # Desviación estándar\n",
    "\n",
    "print(f'La media de los pixels es: {pixel_mean}, mientras que la desviación estánndar de estos pixels es: {pixel_std}')"
   ]
  },
  {
   "cell_type": "code",
   "execution_count": null,
   "id": "5234e7a7",
   "metadata": {},
   "outputs": [
    {
     "name": "stdout",
     "output_type": "stream",
     "text": [
      "Primeras 5 etiquetas: [7 2 1 0 4]\n",
      "Primeras 5 listas de píxeles: [[0 0 0 ... 0 0 0]\n",
      " [0 0 0 ... 0 0 0]\n",
      " [0 0 0 ... 0 0 0]\n",
      " [0 0 0 ... 0 0 0]\n",
      " [0 0 0 ... 0 0 0]]\n"
     ]
    }
   ],
   "source": [
    "print(\"Primeras 5 etiquetas:\", labels_array[:5])\n",
    "print(\"Primeras 5 listas de píxeles:\", pixels_array[:5])\n"
   ]
  },
  {
   "cell_type": "markdown",
   "id": "6cc0d49c",
   "metadata": {},
   "source": [
    "**Proyecto de firma electrónica con imagenes blanco y negro**"
   ]
  },
  {
   "cell_type": "markdown",
   "id": "c34ba9cd",
   "metadata": {},
   "source": [
    "Se va a definir la función \"Trans_pixel\" para que dependiendo del valor del pixel se transforme en un caracter con los valores que nos da el ejercicio. "
   ]
  },
  {
   "cell_type": "code",
   "execution_count": null,
   "id": "99fd793d",
   "metadata": {},
   "outputs": [],
   "source": [
    "def Transf_pixel(pixel):\n",
    "    if 0 <= pixel < 64:\n",
    "        return \" \"\n",
    "    elif 64 <= pixel < 128:\n",
    "        return \".\"\n",
    "    elif 128 <= pixel < 192:\n",
    "        return \"*\"\n",
    "    else:\n",
    "        return \"#\""
   ]
  },
  {
   "cell_type": "markdown",
   "id": "6bfa749e",
   "metadata": {},
   "source": [
    "Ahora, con la función \"Imagen_caracter\" vamos a imprimir lo que se pide ocupando la función que antes definimos, pero hay varios detalles a tomar en cuenta para definir la función.\n",
    "\n",
    "1. Como los valores de k que se tienen empiezan desde 1 hasta 10,000 lo que se hace primero es restar uno a ese valor de k para que coinida con el conteo de python que empieza desde el cero.\n",
    "\n",
    "2. Aquí lo que se hace es que ocupamos la función definida antes para asignar el caracter según el valor del píxel y se guarda en una lista la cual ya tendrá todos los caracteres asignados según el valor del píxel.\n",
    "\n",
    "3. Se imprime primero el dígito el cual se quiere formar.\n",
    "\n",
    "4. En este ciclo se usa un método llamado \"join()\" que lo que hace es unir todos los elementos de la lista en un solo string por lo que al poner \"\".join(imegen) une los caracteres de la lista en la que guardamos los caracteres según el valor del pixel y el \"\" es lara agregarlos sin poner espacios.\n",
    "\n",
    "5. Para la parte [i * 28:(i + 1) * 28] indicamos los elementos de la lista que queremos imprimir y dado que es una imagen de 28 píxels solo tomamos los primeros 28 elementos de nuestra lista y se imprimen, ya que para i=0 se tiene [0 * 28:(0 + 1) * 28] = [0 : 28], para i=1 [1 * 28:(1 + 1) * 28] = [28 : 56] y así sucesivamente. "
   ]
  },
  {
   "cell_type": "code",
   "execution_count": null,
   "id": "0a4fc420",
   "metadata": {},
   "outputs": [
    {
     "name": "stdout",
     "output_type": "stream",
     "text": [
      "Dígito: 5\n",
      "\n",
      "                            \n",
      "                            \n",
      "                            \n",
      "                            \n",
      "                            \n",
      "              .#      **    \n",
      "             .##..*#####    \n",
      "            #########*.     \n",
      "           #####***.        \n",
      "          ##*               \n",
      "         *##                \n",
      "         ##                 \n",
      "        .##                 \n",
      "         ###*               \n",
      "         .#####.            \n",
      "            *###*           \n",
      "              *###*         \n",
      "                ###         \n",
      "                .##         \n",
      "                ###         \n",
      "              .###          \n",
      "        .    *###.          \n",
      "       .# .*###*            \n",
      "       .######.             \n",
      "        *##*.               \n",
      "                            \n",
      "                            \n",
      "                            \n"
     ]
    }
   ],
   "source": [
    "def Imagen_caracter(k, pixels, labels):\n",
    "    # 1.-\n",
    "    valores = pixels[k - 1] \n",
    "    label = labels[k - 1]\n",
    "\n",
    "    # 2.- \n",
    "    imagen = [Transf_pixel(pixel) for pixel in valores]\n",
    "\n",
    "    # 3.-\n",
    "    print(f\"Dígito: {label}\\n\")\n",
    "    for i in range(28):\n",
    "\n",
    "        #4.- \n",
    "        print(\"\".join(imagen[i * 28:(i + 1) * 28]))  # 5.-\n",
    "\n",
    "# Se imprime el dígito 130 como dice el ejercicio.\n",
    "Imagen_caracter(130, pixels_array, labels_array)\n"
   ]
  },
  {
   "cell_type": "markdown",
   "id": "bc8d3a5e",
   "metadata": {},
   "source": [
    "Se sigue el análisis"
   ]
  },
  {
   "cell_type": "markdown",
   "id": "dfe1cec1",
   "metadata": {},
   "source": [
    "Se define la función que cuenta los píxeles negros (cuto valor es mayor a 128) en cada posición de los 784 píxeles y se guardan los datos del conteo de los dígitos ceros y unos."
   ]
  },
  {
   "cell_type": "code",
   "execution_count": null,
   "id": "de8bb63a",
   "metadata": {},
   "outputs": [],
   "source": [
    "def contar_pixeles_negros(conjunto, etiquetas, digito):\n",
    "    valores = conjunto[etiquetas == digito]\n",
    "    conteo_pixeles_negros = np.sum(valores > 128, axis=0)\n",
    "\n",
    "    return conteo_pixeles_negros\n",
    "\n",
    "# Calcular conteo de píxeles negros para los ceros y unos\n",
    "conteo_ceros = contar_pixeles_negros(pixels_array, labels_array, 0)\n",
    "conteo_unos = contar_pixeles_negros(pixels_array, labels_array, 1)\n"
   ]
  },
  {
   "cell_type": "markdown",
   "id": "98e20fa9",
   "metadata": {},
   "source": [
    "Se imprimen con el comando que nos dice el ejercicio en un mapa de calor."
   ]
  },
  {
   "cell_type": "code",
   "execution_count": null,
   "id": "bbaab258",
   "metadata": {},
   "outputs": [
    {
     "data": {
      "image/png": "[encoded data removed]",
      "text/plain": [
       "<Figure size 1000x400 with 4 Axes>"
      ]
     },
     "metadata": {},
     "output_type": "display_data"
    }
   ],
   "source": [
    "plt.figure(figsize=(10, 4))\n",
    "\n",
    "plt.subplot(1, 2, 1)\n",
    "sns.heatmap(conteo_ceros.reshape(28, 28), cmap=\"binary\")\n",
    "plt.title(\"Mapa de píxeles negros - Dígito 0\")\n",
    "\n",
    "plt.subplot(1, 2, 2)\n",
    "sns.heatmap(conteo_unos.reshape(28, 28), cmap=\"binary\")\n",
    "plt.title(\"Mapa de píxeles negros - Dígito 1\")\n",
    "\n",
    "plt.show()"
   ]
  },
  {
   "cell_type": "markdown",
   "id": "20f75f21",
   "metadata": {},
   "source": [
    "Para definir cuál es el i con el valor más alto representa el píxel que mejor separa los dígitos \"0\" y \"1\" es el siguiente código.\n",
    "\n",
    "1. Se hace la operación que dice el ejercicio y se guarda en la variable \"diferencia\".\n",
    "\n",
    "2. Se ocupa la función \"np.argmax()\" que nos dice donde se encuentra el índice del píxel con la mayor diferencia entre 0 y 1.\n",
    "\n",
    "3. Como tenemos una lista de 784 elementos y nosotros tenemos una imagen de 28x28 se usa \"divmod\" que lo que hace es convertirnos nuestro vector de 1x784 en un array de 28x28 y se guardan como fila y columna para identificar el i que más difiere entre los dibujos del cero y uno."
   ]
  },
  {
   "cell_type": "code",
   "execution_count": null,
   "id": "dcf9fedf",
   "metadata": {},
   "outputs": [
    {
     "name": "stdout",
     "output_type": "stream",
     "text": [
      "El píxel más distintivo entre 0 y 1 está en la fila 14, columna 14.\n"
     ]
    }
   ],
   "source": [
    "# 1.-\n",
    "diferencia = np.abs(conteo_ceros - conteo_unos)\n",
    "# 2.- \n",
    "i_max = np.argmax(diferencia)\n",
    "# 3.-\n",
    "fila, columna = divmod(i_max, 28)\n",
    "\n",
    "print(f\"El píxel más distintivo entre 0 y 1 está en la fila {fila}, columna {columna}.\")\n"
   ]
  }
 ],
 "metadata": {
  "language_info": {
   "name": "python"
  }
 },
 "nbformat": 4,
 "nbformat_minor": 5
}
